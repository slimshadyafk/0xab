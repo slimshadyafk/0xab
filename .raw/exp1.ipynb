{
 "cells": [
  {
   "cell_type": "code",
   "execution_count": null,
   "id": "2d7ed7e8-6e01-4e1f-94f2-6fc8866a4f31",
   "metadata": {},
   "outputs": [],
   "source": [
    "import pandas as pd\n",
    "import numpy as np\n",
    "import matplotlib.pyplot as plt\n",
    "from sklearn.datasets import fetch_california_housing\n",
    "import seaborn as ss\n",
    "import warnings\n",
    "warnings.filterwarnings('ignore')\n",
    "california_data = fetch_california_housing(as_frame=True)\n",
    "# df = pd.read_csv(r'../california_housing.csv')\n",
    "df = california_data.frame"
   ]
  },
  {
   "cell_type": "code",
   "execution_count": null,
   "id": "c47622be-1e7c-4729-8220-1ed1677f8ff1",
   "metadata": {},
   "outputs": [],
   "source": [
    "# df['total_bedrooms'].fillna(df['total_bedrooms'].median(), inplace=True)\n",
    "Numerical = df.select_dtypes(include=[np.number]).columns"
   ]
  },
  {
   "cell_type": "code",
   "execution_count": null,
   "id": "89de70a1-0e2f-4398-ba41-436e758d1edc",
   "metadata": {},
   "outputs": [],
   "source": [
    "for col in Numerical:\n",
    "    plt.figure(figsize=(10, 6))  \n",
    "    df[col].plot(kind='hist',title=col,bins=60,edgecolor='black')\n",
    "    plt.ylabel('Frequency')      \n",
    "    plt.show()\n"
   ]
  },
  {
   "cell_type": "code",
   "execution_count": null,
   "id": "619ebbb9-9b21-4404-8d79-b8be2e9e97f1",
   "metadata": {},
   "outputs": [],
   "source": [
    "for col in Numerical:\n",
    "    plt.figure(figsize=(6, 6))\n",
    "    sns.boxplot(df[col], color='blue')\n",
    "    plt.title(col)\n",
    "    plt.ylabel(col)\n",
    "    plt.show()"
   ]
  },
  {
   "cell_type": "code",
   "execution_count": null,
   "id": "ab115634-593e-4ff3-bd48-758eef8e4557",
   "metadata": {},
   "outputs": [],
   "source": []
  }
 ],
 "metadata": {
  "kernelspec": {
   "display_name": "Python 3 (ipykernel)",
   "language": "python",
   "name": "python3"
  },
  "language_info": {
   "codemirror_mode": {
    "name": "ipython",
    "version": 3
   },
   "file_extension": ".py",
   "mimetype": "text/x-python",
   "name": "python",
   "nbconvert_exporter": "python",
   "pygments_lexer": "ipython3",
   "version": "3.13.3"
  }
 },
 "nbformat": 4,
 "nbformat_minor": 5
}
