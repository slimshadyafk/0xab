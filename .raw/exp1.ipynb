{
 "cells": [
  {
   "cell_type": "code",
   "execution_count": null,
   "id": "2d7ed7e8-6e01-4e1f-94f2-6fc8866a4f31",
   "metadata": {},
   "outputs": [],
   "source": [
    "import pandas as pd\n",
    "import numpy as np\n",
    "import matplotlib.pyplot as plt\n",
    "import seaborn as sns\n",
    "from sklearn.datasets import fetch_california_housing\n",
    "import warnings\n",
    "warnings.filterwarnings('ignore')\n",
    "california_data = fetch_california_housing(as_frame=True)\n",
    "# df = pd.read_csv('housing.csv')\n",
    "df = california_data.frame\n",
    "df.shape"
   ]
  },
  {
   "cell_type": "code",
   "execution_count": null,
   "id": "c09efac2-1646-4a7c-a485-cef2e37133e5",
   "metadata": {},
   "outputs": [],
   "source": [
    "for i in df.iloc[:, 2:7]:\n",
    "    df[i] = df[i].astype('int')\n",
    "df.head()"
   ]
  },
  {
   "cell_type": "code",
   "execution_count": null,
   "id": "471e48ee-dccf-4644-aece-4ff225238d9e",
   "metadata": {
    "scrolled": true
   },
   "outputs": [],
   "source": [
    "df.describe().T"
   ]
  },
  {
   "cell_type": "code",
   "execution_count": null,
   "id": "23bb3155-cede-4aef-b61b-ee59ce709c0c",
   "metadata": {
    "scrolled": true
   },
   "outputs": [],
   "source": [
    "numeric = df.select_dtypes('number')\n",
    "numeric.hist(bins=60, figsize=(12, 8))\n",
    "plt.tight_layout()\n",
    "plt.show()"
   ]
  },
  {
   "cell_type": "code",
   "execution_count": null,
   "id": "913422f8-e7cd-4747-9c4e-ce36907f7cac",
   "metadata": {},
   "outputs": [],
   "source": [
    "for col in numeric:\n",
    "    plt.figure(figsize=(6, 6))\n",
    "    sns.boxplot(df[col], color='blue')\n",
    "    plt.tight_layout()\n",
    "    plt.title(col)\n",
    "    plt.show()"
   ]
  }
 ],
 "metadata": {
  "kernelspec": {
   "display_name": "Python 3 (ipykernel)",
   "language": "python",
   "name": "python3"
  },
  "language_info": {
   "codemirror_mode": {
    "name": "ipython",
    "version": 3
   },
   "file_extension": ".py",
   "mimetype": "text/x-python",
   "name": "python",
   "nbconvert_exporter": "python",
   "pygments_lexer": "ipython3",
   "version": "3.13.3"
  }
 },
 "nbformat": 4,
 "nbformat_minor": 5
}
