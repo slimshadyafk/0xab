{
 "cells": [
  {
   "cell_type": "code",
   "execution_count": null,
   "id": "92e47d4b-d206-4ceb-9bf9-cde99b43562e",
   "metadata": {},
   "outputs": [],
   "source": [
    "import numpy as np\n",
    "import matplotlib.pyplot as plt\n",
    "\n",
    "def locally_weighted_regression(X, y, x_query, tau):\n",
    "    m = len(X)\n",
    "    X_b = np.c_[np.ones((m, 1)), X] \n",
    "    x_query_b = np.array([1, x_query])        \n",
    "    \n",
    "    W = np.exp(-np.square(X - x_query) / (2 * tau ** 2))\n",
    "    W = np.diag(W)\n",
    "    \n",
    "    theta = np.linalg.inv(X_b.T @ W @ X_b) @ X_b.T @ W @ y\n",
    "    return x_query_b @ theta\n",
    "\n",
    "X = np.array([1,2,3,4,5,6,7,8,9,10])\n",
    "y = np.array([1,3,2,4,3.5,5,6,7,6.5,8])\n",
    "\n",
    "X_query = np.linspace(1, 10, 100)\n",
    "tau = 1.0\n",
    "\n",
    "y_lwr = np.array([locally_weighted_regression(X, y, x_q, tau) for x_q in X_query])\n",
    "\n",
    "plt.figure(figsize=(10, 6))\n",
    "plt.scatter(X, y, color='blue', label='Data Points')\n",
    "plt.plot(X_query, y_lwr, color='red', label='Locally Weighted Regression')\n",
    "plt.title(\"Locally Weighted Regression Fit\")\n",
    "plt.xlabel(\"X\")\n",
    "plt.ylabel(\"Y\")\n",
    "plt.legend()\n",
    "plt.grid(True)\n",
    "plt.show()"
   ]
  }
 ],
 "metadata": {
  "kernelspec": {
   "display_name": "Python 3 (ipykernel)",
   "language": "python",
   "name": "python3"
  },
  "language_info": {
   "codemirror_mode": {
    "name": "ipython",
    "version": 3
   },
   "file_extension": ".py",
   "mimetype": "text/x-python",
   "name": "python",
   "nbconvert_exporter": "python",
   "pygments_lexer": "ipython3",
   "version": "3.13.3"
  }
 },
 "nbformat": 4,
 "nbformat_minor": 5
}
