{
 "cells": [
  {
   "cell_type": "code",
   "execution_count": null,
   "id": "7328f3c1-8de6-416b-9cd9-79048a3b17cd",
   "metadata": {},
   "outputs": [],
   "source": [
    "import numpy as np\n",
    "import matplotlib.pyplot as plt\n",
    "from sklearn.datasets import load_breast_cancer\n",
    "from sklearn.cluster import KMeans\n",
    "from sklearn.decomposition import PCA\n",
    "from sklearn.preprocessing import StandardScaler\n",
    "from sklearn.metrics import accuracy_score, classification_report, confusion_matrix\n",
    "\n",
    "X, y = load_breast_cancer(return_X_y=True)\n",
    "X = StandardScaler().fit_transform(X)\n",
    "\n",
    "kmeans = KMeans(n_clusters=2, random_state=42).fit(X)\n",
    "labels = kmeans.labels_\n",
    "\n",
    "print(f\"Accuracy: {accuracy_score(y, labels):.2f}\")\n",
    "print(classification_report(y, labels, target_names=load_breast_cancer().target_names))\n",
    "print(\"Confusion Matrix:\\n\", confusion_matrix(y, labels))\n",
    "\n",
    "X_pca = PCA(2).fit_transform(X)\n",
    "plt.scatter(*X_pca.T, c=labels, cmap='viridis', alpha=0.5, label='Clusters')\n",
    "plt.scatter(*X_pca.T, c=y, cmap='coolwarm', marker='x', label='True Labels')\n",
    "plt.title(\"K-means Clustering\"); plt.xlabel(\"PC1\"); plt.ylabel(\"PC2\")\n",
    "plt.legend(); plt.show()"
   ]
  }
 ],
 "metadata": {
  "kernelspec": {
   "display_name": "Python 3 (ipykernel)",
   "language": "python",
   "name": "python3"
  },
  "language_info": {
   "codemirror_mode": {
    "name": "ipython",
    "version": 3
   },
   "file_extension": ".py",
   "mimetype": "text/x-python",
   "name": "python",
   "nbconvert_exporter": "python",
   "pygments_lexer": "ipython3",
   "version": "3.13.3"
  }
 },
 "nbformat": 4,
 "nbformat_minor": 5
}
