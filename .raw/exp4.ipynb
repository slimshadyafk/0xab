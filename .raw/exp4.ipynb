{
 "cells": [
  {
   "cell_type": "code",
   "execution_count": null,
   "id": "cfd6db02-7e7e-4861-ae0b-54eb1ee91f0b",
   "metadata": {},
   "outputs": [],
   "source": [
    "import pandas as pd\n",
    "data = pd.read_csv('sample.csv')"
   ]
  },
  {
   "cell_type": "code",
   "execution_count": null,
   "id": "52c23a27-21e1-4f38-8852-42a1e22afa59",
   "metadata": {},
   "outputs": [],
   "source": [
    "def find_s_algorithm(data):\n",
    "    attributes = data.iloc[:, :-1].values  \n",
    "    target = data.iloc[:, -1].values       \n",
    "    for i in range(len(target)):\n",
    "        if target[i].lower() == \"yes\":\n",
    "            hypothesis = attributes[i].copy()\n",
    "            break\n",
    "    for i in range(len(target)):\n",
    "        if target[i].lower() == \"yes\":\n",
    "            for j in range(len(hypothesis)):\n",
    "                if hypothesis[j] != attributes[i][j]:\n",
    "                    hypothesis[j] = '?'\n",
    "    return hypothesis  # Add this line to return the hypothesis\n",
    "\n",
    "final_hypothesis = find_s_algorithm(data)\n",
    "print(\"Most Specific Hypothesis:\", final_hypothesis)"
   ]
  }
 ],
 "metadata": {
  "kernelspec": {
   "display_name": "Python 3 (ipykernel)",
   "language": "python",
   "name": "python3"
  },
  "language_info": {
   "codemirror_mode": {
    "name": "ipython",
    "version": 3
   },
   "file_extension": ".py",
   "mimetype": "text/x-python",
   "name": "python",
   "nbconvert_exporter": "python",
   "pygments_lexer": "ipython3",
   "version": "3.13.3"
  }
 },
 "nbformat": 4,
 "nbformat_minor": 5
}
