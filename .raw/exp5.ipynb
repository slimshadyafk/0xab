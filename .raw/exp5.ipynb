{
 "cells": [
  {
   "cell_type": "code",
   "execution_count": null,
   "id": "1b32ad99-4ed1-4d71-8ac4-0860b5db6b6a",
   "metadata": {},
   "outputs": [],
   "source": [
    "import numpy as np\n",
    "import matplotlib.pyplot as plt\n",
    "from sklearn.neighbors import KNeighborsClassifier\n",
    "\n",
    "\n",
    "np.random.seed(42)\n",
    "X = np.random.rand(100, 1)\n",
    "y = np.array([1 if xi<=0.5 else 2 for xi in X[:50]])\n",
    "\n",
    "X_train = X[:50]\n",
    "y_train = y\n",
    "X_test = X[50:]\n",
    "\n",
    "def knn_classification(X_train, y_train, X_test, k_values):\n",
    "    for k in k_values:\n",
    "        knn = KNeighborsClassifier(n_neighbors=k)\n",
    "        knn.fit(X_train, y_train)\n",
    "        y_pred = knn.predict(X_test)\n",
    "\n",
    "        plt.scatter(X_train, y_train, color='blue', label='Train Data (Class1=1, Class2=2)')\n",
    "        plt.scatter(X_test, y_pred, color='red', label=f'Predicted Test Data (k={k})')\n",
    "        plt.axhline(y=1.5, color='black', linestyle='--')  # Class separator\n",
    "        plt.xlabel('x values')\n",
    "        plt.ylabel('Class')\n",
    "        plt.title(f'KNN Classification with k={k}')\n",
    "        plt.legend()\n",
    "        plt.show()\n",
    "\n",
    "k_values = [1, 2, 3, 4, 5, 20, 30]\n",
    "knn_classification(X_train, y_train, X_test, k_values)\n"
   ]
  }
 ],
 "metadata": {
  "kernelspec": {
   "display_name": "Python 3 (ipykernel)",
   "language": "python",
   "name": "python3"
  },
  "language_info": {
   "codemirror_mode": {
    "name": "ipython",
    "version": 3
   },
   "file_extension": ".py",
   "mimetype": "text/x-python",
   "name": "python",
   "nbconvert_exporter": "python",
   "pygments_lexer": "ipython3",
   "version": "3.13.3"
  }
 },
 "nbformat": 4,
 "nbformat_minor": 5
}
